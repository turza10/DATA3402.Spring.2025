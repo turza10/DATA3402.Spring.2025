{
 "cells": [
  {
   "cell_type": "markdown",
   "metadata": {
    "id": "C9Rx44Mtcwp5"
   },
   "source": [
    "## Lab 2- Tic Tac Toe\n",
    "\n",
    "In this lab your will build a n x n Tic Tac Toe game. As you do the exercises, make sure your solutions work for any size Tic Tac Toe game."
   ]
  },
  {
   "cell_type": "markdown",
   "metadata": {},
   "source": [
    "## Submitted by Turza Saha, 1001934520"
   ]
  },
  {
   "cell_type": "markdown",
   "metadata": {
    "id": "bNW1cUu2cwp6"
   },
   "source": [
    "*Exercise 1:* Write a function that creates an n by n matrix (of list of lists) which will represent the state of a Tie Tac Toe game. Let 0, 1, and 2 represent empty, \"X\", and \"O\", respectively.\n"
   ]
  },
  {
   "cell_type": "code",
   "execution_count": null,
   "metadata": {
    "collapsed": true,
    "id": "-A5NKq1ucwp7"
   },
   "outputs": [],
   "source": [
    "# Write you solution here\n",
    "\n",
    "def create_matrix(n):\n",
    "    matrix = [[0]*n for i in range(n)]\n",
    "    return matrix\n"
   ]
  },
  {
   "cell_type": "code",
   "execution_count": 65,
   "metadata": {
    "colab": {
     "base_uri": "https://localhost:8080/"
    },
    "collapsed": true,
    "id": "MMAkK8_icwp7",
    "outputId": "b87eea00-8489-449a-8c7f-80066b208d41"
   },
   "outputs": [
    {
     "name": "stdout",
     "output_type": "stream",
     "text": [
      "[[0, 0, 0, 0], [0, 0, 0, 0], [0, 0, 0, 0], [0, 0, 0, 0]]\n"
     ]
    }
   ],
   "source": [
    "# Test your solution here\n",
    "print(create_matrix(4))"
   ]
  },
  {
   "cell_type": "markdown",
   "metadata": {
    "id": "u0aYGI-qcwp7"
   },
   "source": [
    "*Exercise 2:* Write a function that takes 2 integers `n` and `m` as input and draws a `n` by `m` game board. For example the following is a 3x3 board:\n",
    "```\n",
    "   --- --- ---\n",
    "  |   |   |   |\n",
    "   --- --- ---  \n",
    "  |   |   |   |\n",
    "   --- --- ---  \n",
    "  |   |   |   |\n",
    "   --- --- ---\n",
    "   ```"
   ]
  },
  {
   "cell_type": "code",
   "execution_count": 66,
   "metadata": {
    "collapsed": true,
    "id": "FJrIA-zjcwp7"
   },
   "outputs": [],
   "source": [
    "# Write you solution\n",
    "def create_game_board(n,m):\n",
    "    game_board = []\n",
    "    for i in range(2*n+1):\n",
    "        if i%2 == 0:\n",
    "            game_board.append(\" ---\"*m)\n",
    "\n",
    "        else:\n",
    "            game_board.append(\"|   \"*m + \"|\")\n",
    "\n",
    "\n",
    "    return game_board"
   ]
  },
  {
   "cell_type": "code",
   "execution_count": 67,
   "metadata": {
    "colab": {
     "base_uri": "https://localhost:8080/"
    },
    "collapsed": true,
    "id": "lz1VKIftcwp7",
    "outputId": "905468d2-8986-404c-e159-f7f311f59455"
   },
   "outputs": [
    {
     "name": "stdout",
     "output_type": "stream",
     "text": [
      " --- --- --- ---\n",
      "|   |   |   |   |\n",
      " --- --- --- ---\n",
      "|   |   |   |   |\n",
      " --- --- --- ---\n",
      "|   |   |   |   |\n",
      " --- --- --- ---\n",
      "|   |   |   |   |\n",
      " --- --- --- ---\n",
      "|   |   |   |   |\n",
      " --- --- --- ---\n",
      "|   |   |   |   |\n",
      " --- --- --- ---\n"
     ]
    }
   ],
   "source": [
    "# Test your solution here\n",
    "board = create_game_board(6,4)\n",
    "for row in board:\n",
    "    print(row)"
   ]
  },
  {
   "cell_type": "markdown",
   "metadata": {
    "id": "sbwBco_0cwp7"
   },
   "source": [
    "*Exercise 3:* Modify exercise 2, so that it takes a matrix of the form from exercise 1 and draws a tic-tac-tie board with \"X\"s and \"O\"s.  "
   ]
  },
  {
   "cell_type": "code",
   "execution_count": 68,
   "metadata": {
    "collapsed": true,
    "id": "GUJQtFFBcwp7"
   },
   "outputs": [],
   "source": [
    "# Write you solution here\n",
    "def generate_visual_board(matrix):\n",
    "\n",
    "    n = len(matrix)\n",
    "    m = len(matrix[0])\n",
    "\n",
    "    game_board = []\n",
    "    game_board.append(\" ---\"*m)\n",
    "    for i in range(n):\n",
    "        row = \"|\"\n",
    "        for j in range(m):\n",
    "\n",
    "            if matrix[i][j] == 1:\n",
    "                row += \" X \"\n",
    "            elif matrix[i][j] == 2:\n",
    "                row += \" O \"\n",
    "            else:\n",
    "                row += \"   \"\n",
    "            if j < m :\n",
    "                row += \"|\"\n",
    "        game_board.append(row)\n",
    "        if i < n :\n",
    "            game_board.append(\" ---\" * m)\n",
    "    return game_board\n"
   ]
  },
  {
   "cell_type": "code",
   "execution_count": 51,
   "metadata": {
    "colab": {
     "base_uri": "https://localhost:8080/"
    },
    "collapsed": true,
    "id": "dvFTexkkcwp7",
    "outputId": "b2660bef-4067-4777-c9a0-0326cc91c629"
   },
   "outputs": [
    {
     "name": "stdout",
     "output_type": "stream",
     "text": [
      " --- --- ---\n",
      "| X | O | O |\n",
      " --- --- ---\n",
      "| X |   | X |\n",
      " --- --- ---\n",
      "| X |   |   |\n",
      " --- --- ---\n"
     ]
    }
   ],
   "source": [
    "# Test your solution here\n",
    "\n",
    "example_matrix = [\n",
    "    [1, 2, 2],\n",
    "    [1, 0, 1],\n",
    "    [1, 0, 0]\n",
    "]\n",
    "\n",
    "visual_board = generate_visual_board(example_matrix)\n",
    "for row in visual_board:\n",
    "    print(row)"
   ]
  },
  {
   "cell_type": "markdown",
   "metadata": {
    "id": "gVSgMdahcwp8"
   },
   "source": [
    "*Exercise 4:* Write a function that takes a `n` by `n` matrix representing a tic-tac-toe game, and returns -1, 0, 1, or 2 indicating the game is incomplete, the game is a draw, player 1 has won, or player 2 has one, respectively. Here are some example inputs you can use to test your code:"
   ]
  },
  {
   "cell_type": "code",
   "execution_count": 52,
   "metadata": {
    "collapsed": true,
    "id": "xlrNafJlcwp8"
   },
   "outputs": [],
   "source": [
    "# Write you solution here\n",
    "def check_winner(matrix):\n",
    "  n = len(matrix)\n",
    "  if n != len(matrix[0]):\n",
    "    return \"Invalid matrix\"\n",
    "\n",
    "  for i in range(n):\n",
    "    if all(matrix[i][j] == matrix[i][0] for j in range(n)) and matrix[i][0] != 0:\n",
    "      return matrix[i][0]\n",
    "    if all(matrix[j][i] == matrix[0][i] for j in range(n)) and matrix[0][i] != 0:\n",
    "      return matrix[0][i]\n",
    "    if all(matrix[i][i] == matrix[0][0] for i in range(n)) and matrix[0][0] != 0:\n",
    "      return matrix[0][0]\n",
    "    if all(matrix[i][n-1-i] == matrix[0][n-1] for i in range(n)) and matrix[0][n-1] != 0:\n",
    "      return matrix[0][n-1]\n",
    "\n",
    "  if any(0 in row for row in matrix):\n",
    "    return -1\n",
    "  else:\n",
    "    return 0\n"
   ]
  },
  {
   "cell_type": "code",
   "execution_count": null,
   "metadata": {
    "collapsed": true,
    "id": "zaa2f1Lncwp8"
   },
   "outputs": [],
   "source": [
    "# Test your solution here"
   ]
  },
  {
   "cell_type": "code",
   "execution_count": 69,
   "metadata": {
    "collapsed": true,
    "id": "8IzsiAZJcwp8"
   },
   "outputs": [],
   "source": [
    "winner_is_2 = [[2, 2, 0],\n",
    "\t[2, 1, 0],\n",
    "\t[2, 1, 1]]\n",
    "\n",
    "winner_is_1 = [[1, 2, 0],\n",
    "\t[2, 1, 0],\n",
    "\t[2, 1, 1]]\n",
    "\n",
    "winner_is_also_1 = [[0, 1, 0],\n",
    "\t[2, 1, 0],\n",
    "\t[2, 1, 1]]\n",
    "\n",
    "no_winner = [[1, 2, 0],\n",
    "\t[2, 1, 0],\n",
    "\t[2, 1, 2]]\n",
    "\n",
    "also_no_winner = [[1, 2, 0],\n",
    "\t[2, 1, 0],\n",
    "\t[2, 1, 0]]"
   ]
  },
  {
   "cell_type": "code",
   "execution_count": 70,
   "metadata": {
    "colab": {
     "base_uri": "https://localhost:8080/"
    },
    "id": "IK__VYAkJRwx",
    "outputId": "3e164201-ea43-422d-e897-56a9f81947c5"
   },
   "outputs": [
    {
     "name": "stdout",
     "output_type": "stream",
     "text": [
      "The winner is  -1\n"
     ]
    }
   ],
   "source": [
    "print(\"The winner is \", check_winner(no_winner))"
   ]
  },
  {
   "cell_type": "markdown",
   "metadata": {
    "id": "XG8n-yFOcwp8"
   },
   "source": [
    "*Exercise 5:* Write a function that takes a game board, player number, and `(x,y)` coordinates and places \"X\" or \"O\" in the correct location of the game board. Make sure that you only allow filling previously empty locations. Return `True` or `False` to indicate successful placement of \"X\" or \"O\"."
   ]
  },
  {
   "cell_type": "code",
   "execution_count": 71,
   "metadata": {
    "collapsed": true,
    "id": "MmEFs1KTcwp8"
   },
   "outputs": [],
   "source": [
    "# Write you solution here\n",
    "def place_marker(matrix, player_number, x, y):\n",
    "    if matrix[x][y] == 0:\n",
    "        matrix[x][y] = player_number\n",
    "        return True\n",
    "    else:\n",
    "        return False"
   ]
  },
  {
   "cell_type": "code",
   "execution_count": 72,
   "metadata": {
    "colab": {
     "base_uri": "https://localhost:8080/"
    },
    "collapsed": true,
    "id": "59KOzFxIcwp8",
    "outputId": "3c43840b-221a-4ad7-c9aa-2c74dca058df"
   },
   "outputs": [
    {
     "name": "stdout",
     "output_type": "stream",
     "text": [
      "True\n",
      "[[1, 2, 1], [2, 1, 0], [2, 1, 2]]\n"
     ]
    }
   ],
   "source": [
    "# Test your solution here\n",
    "\n",
    "print(place_marker(no_winner, 1, 0, 2))\n",
    "print(no_winner)"
   ]
  },
  {
   "cell_type": "markdown",
   "metadata": {
    "id": "4jEYdfFBcwp8"
   },
   "source": [
    "*Exercise 6:* Modify Exercise 3 to show column and row labels so that players can specify location using \"A2\" or \"C1\"."
   ]
  },
  {
   "cell_type": "code",
   "execution_count": 73,
   "metadata": {
    "collapsed": true,
    "id": "TVBxTbNtcwp8"
   },
   "outputs": [],
   "source": [
    "# Write you solution here\n",
    "def generate_board_with_labels(matrix):\n",
    "    n = len(matrix)\n",
    "    m = len(matrix[0])\n",
    "\n",
    "\n",
    "    column_labels = \"    \" + \"   \".join([chr(65 + j) for j in range(m)])\n",
    "    game_board = [column_labels]\n",
    "    game_board.append(\"   \" + \"--- \" * m)\n",
    "\n",
    "    for i in range(n):\n",
    "\n",
    "        row = f\"{i + 1:<2}|\"\n",
    "        for j in range(m):\n",
    "            if matrix[i][j] == 1:\n",
    "                row += \" X |\"\n",
    "            elif matrix[i][j] == 2:\n",
    "                row += \" O |\"\n",
    "            else:\n",
    "                row += \"   |\"\n",
    "        game_board.append(row)\n",
    "        game_board.append(\"   \" + \"--- \" * m)\n",
    "    return game_board\n",
    "\n",
    "\n",
    "\n",
    "\n"
   ]
  },
  {
   "cell_type": "code",
   "execution_count": 74,
   "metadata": {
    "colab": {
     "base_uri": "https://localhost:8080/"
    },
    "collapsed": true,
    "id": "UeYTewFXcwp8",
    "outputId": "a0392583-a6b2-46b4-ed15-e4d42a7f3fe6"
   },
   "outputs": [
    {
     "name": "stdout",
     "output_type": "stream",
     "text": [
      "    A   B   C\n",
      "   --- --- --- \n",
      "1 | X | O | O |\n",
      "   --- --- --- \n",
      "2 | X |   | X |\n",
      "   --- --- --- \n",
      "3 | X |   |   |\n",
      "   --- --- --- \n"
     ]
    }
   ],
   "source": [
    "# Test your solution here\n",
    "visual_board = generate_board_with_labels(example_matrix)\n",
    "for row in visual_board:\n",
    "    print(row)\n"
   ]
  },
  {
   "cell_type": "markdown",
   "metadata": {
    "id": "1Beb259ecwp8"
   },
   "source": [
    "*Exercise 7:* Write a function that takes a board, player number, and location specified as in exercise 6 and then calls exercise 5 to correctly modify the board.  "
   ]
  },
  {
   "cell_type": "code",
   "execution_count": 75,
   "metadata": {
    "collapsed": true,
    "id": "5tdryfK6cwp8"
   },
   "outputs": [],
   "source": [
    "# Write you solution here\n",
    "def place_marker_with_labels(matrix, player_number, location):\n",
    "\n",
    "    column_label = location[0].upper()\n",
    "    column_index = ord(column_label) - 65\n",
    "\n",
    "    row_index = int(location[1:]) - 1\n",
    "\n",
    "\n",
    "    return place_marker(matrix, player_number, row_index, column_index)\n"
   ]
  },
  {
   "cell_type": "code",
   "execution_count": 76,
   "metadata": {
    "colab": {
     "base_uri": "https://localhost:8080/"
    },
    "collapsed": true,
    "id": "yY2St1D6cwp8",
    "outputId": "e1f0ceb0-8f1b-43bb-c4f4-a3c087f42903"
   },
   "outputs": [
    {
     "name": "stdout",
     "output_type": "stream",
     "text": [
      "True\n"
     ]
    }
   ],
   "source": [
    "\n",
    "\n",
    "print(place_marker_with_labels(also_no_winner, 1, \"C2\"))"
   ]
  },
  {
   "cell_type": "markdown",
   "metadata": {
    "id": "TZD7gTBXcwp9"
   },
   "source": [
    "*Exercise 8:* Write a function is called with a board and player number, takes input from the player using python's `input`, and modifies the board using your function from exercise 7. Note that you should keep asking for input until you have gotten a valid input that results in a valid move."
   ]
  },
  {
   "cell_type": "code",
   "execution_count": 77,
   "metadata": {
    "collapsed": true,
    "id": "2A-XQgeocwp9"
   },
   "outputs": [],
   "source": [
    "# Write you solution here\n",
    "def get_player_move(matrix, player_number):\n",
    "\n",
    "    while True:\n",
    "\n",
    "        location = input(f\"Player {player_number} ('{'X' if player_number == 1 else 'O'}'), enter your move (e.g., A2): \").strip()\n",
    "        try:\n",
    "            # Attempt to place the marker\n",
    "            if place_marker_with_labels(matrix, player_number, location):\n",
    "                print(f\"Move accepted: {location}\")\n",
    "                return True\n",
    "            else:\n",
    "                print(\"Invalid move. Cell is already occupied.\")\n",
    "        except (IndexError, ValueError):\n",
    "            print(\"Invalid input. Please enter a valid location like 'A2'.\")\n",
    "\n"
   ]
  },
  {
   "cell_type": "code",
   "execution_count": 79,
   "metadata": {
    "colab": {
     "base_uri": "https://localhost:8080/"
    },
    "collapsed": true,
    "id": "rONjE_h2cwp9",
    "outputId": "27eee91e-e0e8-4d05-b366-45aa6fb4d317"
   },
   "outputs": [
    {
     "name": "stdout",
     "output_type": "stream",
     "text": [
      "Player 1 ('X'), enter your move (e.g., A2): C1\n",
      "Move accepted: C1\n"
     ]
    },
    {
     "data": {
      "text/plain": [
       "True"
      ]
     },
     "execution_count": 79,
     "metadata": {},
     "output_type": "execute_result"
    }
   ],
   "source": [
    "# Test your solution here\n",
    "also_no_winner = [[1, 2, 0],\n",
    "\t[2, 1, 0],\n",
    "\t[2, 1, 0]]\n",
    "get_player_move(also_no_winner, 1)"
   ]
  },
  {
   "cell_type": "markdown",
   "metadata": {
    "id": "rkGF8GN4cwp9"
   },
   "source": [
    "*Exercise 9:* Use all of the previous exercises to implement a full tic-tac-toe game, where an appropriate board is drawn, 2 players are repeatedly asked for a location coordinates of where they wish to place a mark, and the game status is checked until a player wins or a draw occurs."
   ]
  },
  {
   "cell_type": "code",
   "execution_count": 80,
   "metadata": {
    "collapsed": true,
    "id": "hOIGDsGQcwp9"
   },
   "outputs": [],
   "source": [
    "# Write you solution here\n",
    "#get input for size of matrix\n",
    "#create a board\n",
    "#till game is over,\n",
    "  #show each player the board\n",
    "  #ask where to mark\n",
    "  #mark and show results\n",
    "  #check_game_status\n",
    "  #if_not_over, switch player\n",
    "\n",
    "def play_tic_tac_toe():\n",
    "\n",
    "    size = int(input(\"Enter board size (e.g., 3 for 3x3): \"))\n",
    "    board = create_matrix(size)\n",
    "\n",
    "\n",
    "    current_player = 1\n",
    "    while True:\n",
    "\n",
    "        visual_board = generate_board_with_labels(board)\n",
    "        for row in visual_board:\n",
    "            print(row)\n",
    "\n",
    "\n",
    "        get_player_move(board, current_player)\n",
    "\n",
    "\n",
    "        status = check_winner(board)\n",
    "        if status == 1:\n",
    "            print(\"Player 1 (X) wins!\")\n",
    "            break\n",
    "        elif status == 2:\n",
    "            print(\"Player 2 (O) wins!\")\n",
    "            break\n",
    "        elif status == 0:\n",
    "            print(\"It's a draw!\")\n",
    "            break\n",
    "\n",
    "\n",
    "        current_player = 2 if current_player == 1 else 1\n"
   ]
  },
  {
   "cell_type": "code",
   "execution_count": null,
   "metadata": {
    "collapsed": true,
    "id": "6cgy7J9scwp9"
   },
   "outputs": [],
   "source": [
    "# Test your solution here\n"
   ]
  },
  {
   "cell_type": "markdown",
   "metadata": {
    "id": "zc3SBfECcwp9"
   },
   "source": [
    "*Exercise 10:* Test that your game works for 5x5 Tic Tac Toe.  "
   ]
  },
  {
   "cell_type": "code",
   "execution_count": 81,
   "metadata": {
    "colab": {
     "base_uri": "https://localhost:8080/"
    },
    "collapsed": true,
    "id": "pCinAKNhcwp9",
    "outputId": "695d34f6-2764-4ccb-b744-5f14fc9bf19d"
   },
   "outputs": [
    {
     "name": "stdout",
     "output_type": "stream",
     "text": [
      "Enter board size (e.g., 3 for 3x3): 5\n",
      "    A   B   C   D   E\n",
      "   --- --- --- --- --- \n",
      "1 |   |   |   |   |   |\n",
      "   --- --- --- --- --- \n",
      "2 |   |   |   |   |   |\n",
      "   --- --- --- --- --- \n",
      "3 |   |   |   |   |   |\n",
      "   --- --- --- --- --- \n",
      "4 |   |   |   |   |   |\n",
      "   --- --- --- --- --- \n",
      "5 |   |   |   |   |   |\n",
      "   --- --- --- --- --- \n",
      "Player 1 ('X'), enter your move (e.g., A2): A1\n",
      "Move accepted: A1\n",
      "    A   B   C   D   E\n",
      "   --- --- --- --- --- \n",
      "1 | X |   |   |   |   |\n",
      "   --- --- --- --- --- \n",
      "2 |   |   |   |   |   |\n",
      "   --- --- --- --- --- \n",
      "3 |   |   |   |   |   |\n",
      "   --- --- --- --- --- \n",
      "4 |   |   |   |   |   |\n",
      "   --- --- --- --- --- \n",
      "5 |   |   |   |   |   |\n",
      "   --- --- --- --- --- \n",
      "Player 2 ('O'), enter your move (e.g., A2): B1\n",
      "Move accepted: B1\n",
      "    A   B   C   D   E\n",
      "   --- --- --- --- --- \n",
      "1 | X | O |   |   |   |\n",
      "   --- --- --- --- --- \n",
      "2 |   |   |   |   |   |\n",
      "   --- --- --- --- --- \n",
      "3 |   |   |   |   |   |\n",
      "   --- --- --- --- --- \n",
      "4 |   |   |   |   |   |\n",
      "   --- --- --- --- --- \n",
      "5 |   |   |   |   |   |\n",
      "   --- --- --- --- --- \n",
      "Player 1 ('X'), enter your move (e.g., A2): B2\n",
      "Move accepted: B2\n",
      "    A   B   C   D   E\n",
      "   --- --- --- --- --- \n",
      "1 | X | O |   |   |   |\n",
      "   --- --- --- --- --- \n",
      "2 |   | X |   |   |   |\n",
      "   --- --- --- --- --- \n",
      "3 |   |   |   |   |   |\n",
      "   --- --- --- --- --- \n",
      "4 |   |   |   |   |   |\n",
      "   --- --- --- --- --- \n",
      "5 |   |   |   |   |   |\n",
      "   --- --- --- --- --- \n",
      "Player 2 ('O'), enter your move (e.g., A2): C1\n",
      "Move accepted: C1\n",
      "    A   B   C   D   E\n",
      "   --- --- --- --- --- \n",
      "1 | X | O | O |   |   |\n",
      "   --- --- --- --- --- \n",
      "2 |   | X |   |   |   |\n",
      "   --- --- --- --- --- \n",
      "3 |   |   |   |   |   |\n",
      "   --- --- --- --- --- \n",
      "4 |   |   |   |   |   |\n",
      "   --- --- --- --- --- \n",
      "5 |   |   |   |   |   |\n",
      "   --- --- --- --- --- \n",
      "Player 1 ('X'), enter your move (e.g., A2): C3\n",
      "Move accepted: C3\n",
      "    A   B   C   D   E\n",
      "   --- --- --- --- --- \n",
      "1 | X | O | O |   |   |\n",
      "   --- --- --- --- --- \n",
      "2 |   | X |   |   |   |\n",
      "   --- --- --- --- --- \n",
      "3 |   |   | X |   |   |\n",
      "   --- --- --- --- --- \n",
      "4 |   |   |   |   |   |\n",
      "   --- --- --- --- --- \n",
      "5 |   |   |   |   |   |\n",
      "   --- --- --- --- --- \n",
      "Player 2 ('O'), enter your move (e.g., A2): D1\n",
      "Move accepted: D1\n",
      "    A   B   C   D   E\n",
      "   --- --- --- --- --- \n",
      "1 | X | O | O | O |   |\n",
      "   --- --- --- --- --- \n",
      "2 |   | X |   |   |   |\n",
      "   --- --- --- --- --- \n",
      "3 |   |   | X |   |   |\n",
      "   --- --- --- --- --- \n",
      "4 |   |   |   |   |   |\n",
      "   --- --- --- --- --- \n",
      "5 |   |   |   |   |   |\n",
      "   --- --- --- --- --- \n",
      "Player 1 ('X'), enter your move (e.g., A2): D4\n",
      "Move accepted: D4\n",
      "    A   B   C   D   E\n",
      "   --- --- --- --- --- \n",
      "1 | X | O | O | O |   |\n",
      "   --- --- --- --- --- \n",
      "2 |   | X |   |   |   |\n",
      "   --- --- --- --- --- \n",
      "3 |   |   | X |   |   |\n",
      "   --- --- --- --- --- \n",
      "4 |   |   |   | X |   |\n",
      "   --- --- --- --- --- \n",
      "5 |   |   |   |   |   |\n",
      "   --- --- --- --- --- \n",
      "Player 2 ('O'), enter your move (e.g., A2): E1\n",
      "Move accepted: E1\n",
      "    A   B   C   D   E\n",
      "   --- --- --- --- --- \n",
      "1 | X | O | O | O | O |\n",
      "   --- --- --- --- --- \n",
      "2 |   | X |   |   |   |\n",
      "   --- --- --- --- --- \n",
      "3 |   |   | X |   |   |\n",
      "   --- --- --- --- --- \n",
      "4 |   |   |   | X |   |\n",
      "   --- --- --- --- --- \n",
      "5 |   |   |   |   |   |\n",
      "   --- --- --- --- --- \n",
      "Player 1 ('X'), enter your move (e.g., A2): E5\n",
      "Move accepted: E5\n",
      "Player 1 (X) wins!\n"
     ]
    }
   ],
   "source": [
    "# Test your solution here\n",
    "play_tic_tac_toe()"
   ]
  },
  {
   "cell_type": "markdown",
   "metadata": {
    "id": "Unur9u-4cwp9"
   },
   "source": [
    "*Exercise 11:* (Advanced / Challenge) Develop a version of the game where one player is the computer. Note that you don't need to do an extensive seach for the best move. You can have the computer simply protect against loosing and otherwise try to win with straight or diagonal patterns."
   ]
  },
  {
   "cell_type": "code",
   "execution_count": null,
   "metadata": {
    "collapsed": true,
    "id": "paa88vNJcwp9"
   },
   "outputs": [],
   "source": [
    "# Write you solution here"
   ]
  },
  {
   "cell_type": "code",
   "execution_count": null,
   "metadata": {
    "collapsed": true,
    "id": "yPQBEUVccwp9"
   },
   "outputs": [],
   "source": [
    "# Test your solution here"
   ]
  }
 ],
 "metadata": {
  "colab": {
   "provenance": []
  },
  "kernelspec": {
   "display_name": "Python 3 (ipykernel)",
   "language": "python",
   "name": "python3"
  },
  "language_info": {
   "codemirror_mode": {
    "name": "ipython",
    "version": 3
   },
   "file_extension": ".py",
   "mimetype": "text/x-python",
   "name": "python",
   "nbconvert_exporter": "python",
   "pygments_lexer": "ipython3",
   "version": "3.9.6"
  }
 },
 "nbformat": 4,
 "nbformat_minor": 0
}
