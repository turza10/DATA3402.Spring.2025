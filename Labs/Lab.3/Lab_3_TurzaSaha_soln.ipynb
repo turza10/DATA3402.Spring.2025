{
 "cells": [
  {
   "cell_type": "markdown",
   "metadata": {
    "id": "WUgn04yge-jI"
   },
   "source": [
    "### Uniform Distribution\n",
    "Lets start with generating some fake random data. You can get a random number between 0 and 1 using the python random module as follow:"
   ]
  },
  {
   "cell_type": "code",
   "execution_count": 1,
   "metadata": {
    "colab": {
     "base_uri": "https://localhost:8080/"
    },
    "id": "6_QECgGpe-jJ",
    "outputId": "0ae49ecd-ad9c-43af-821c-cba36a292084"
   },
   "outputs": [
    {
     "name": "stdout",
     "output_type": "stream",
     "text": [
      "The Value of x is 0.5589013599763983\n"
     ]
    }
   ],
   "source": [
    "import random\n",
    "x=random.random()\n",
    "print(\"The Value of x is\", x)"
   ]
  },
  {
   "cell_type": "markdown",
   "metadata": {
    "id": "kPxVcKJQe-jJ"
   },
   "source": [
    "Everytime you call random, you will get a new number.\n",
    "\n",
    "*Exercise 1:* Using random, write a function `generate_uniform(N, mymin, mymax)`, that returns a python list containing N random numbers between specified minimum and maximum value. Note that you may want to quickly work out on paper how to turn numbers between 0 and 1 to between other values."
   ]
  },
  {
   "cell_type": "code",
   "execution_count": null,
   "metadata": {
    "id": "k61jrNq0e-jK"
   },
   "outputs": [],
   "source": [
    "# Skeleton\n",
    "def generate_uniform(N,x_min,x_max):\n",
    "    out = []\n",
    "\n",
    "    for i in range(N):\n",
    "      out.append(x_min + random.random() * (x_max - x_min))\n",
    "\n",
    "\n",
    "\n",
    "    return out\n",
    "\n"
   ]
  },
  {
   "cell_type": "code",
   "execution_count": null,
   "metadata": {
    "colab": {
     "base_uri": "https://localhost:8080/"
    },
    "id": "aXKbZMyge-jK",
    "outputId": "62e57ff8-c41b-4383-88a4-d6da7768e5b8"
   },
   "outputs": [
    {
     "name": "stdout",
     "output_type": "stream",
     "text": [
      "Data Type: <class 'list'>\n",
      "Data Length: 1000\n",
      "Type of Data Contents: <class 'float'>\n",
      "Data Minimum: -9.974860537225894\n",
      "Data Maximum: 9.988463713627645\n"
     ]
    }
   ],
   "source": [
    "\n",
    "data=generate_uniform(1000,-10,10)\n",
    "print (\"Data Type:\", type(data))\n",
    "print (\"Data Length:\", len(data))\n",
    "if len(data)>0:\n",
    "    print (\"Type of Data Contents:\", type(data[0]))\n",
    "    print (\"Data Minimum:\", min(data))\n",
    "    print (\"Data Maximum:\", max(data))"
   ]
  },
  {
   "cell_type": "markdown",
   "metadata": {
    "id": "WRqys4-ie-jK"
   },
   "source": [
    "*Exercise 2a:*\n",
    "Write a function that computes the mean of values in a list. Recall the equation for the mean of a random variable $\\bf{x}$ computed on a data set of $n$ values $\\{ x_i \\} = \\{x_1, x_2, ..., x_n\\}$  is ${\\bf\\bar{x}} = \\frac{1}{n} \\sum_i^n x_i$."
   ]
  },
  {
   "cell_type": "code",
   "execution_count": 4,
   "metadata": {
    "id": "OTP2glzRe-jK"
   },
   "outputs": [],
   "source": [
    "# Skeleton\n",
    "def mean(Data):\n",
    "    m=0.\n",
    "\n",
    "    if len(Data) >0:\n",
    "      m = sum(Data)/len(Data)\n",
    "\n",
    "    return m"
   ]
  },
  {
   "cell_type": "code",
   "execution_count": 5,
   "metadata": {
    "colab": {
     "base_uri": "https://localhost:8080/"
    },
    "id": "3FXcDrTBe-jK",
    "outputId": "00be73c6-e36f-47da-c1a2-ed8125664e96"
   },
   "outputs": [
    {
     "name": "stdout",
     "output_type": "stream",
     "text": [
      "Mean of Data: 0.02996270670574305\n"
     ]
    }
   ],
   "source": [
    "# Test your solution here\n",
    "print (\"Mean of Data:\", mean(data))"
   ]
  },
  {
   "cell_type": "markdown",
   "metadata": {
    "id": "_nDrSnjZe-jK"
   },
   "source": [
    "*Exercise 2b:*\n",
    "Write a function that computes the variance of values in a list. Recall the equation for the variance of a random variable $\\bf{x}$ computed on a data set of $n$ values $\\{ x_i \\} = \\{x_1, x_2, ..., x_n\\}$  is ${\\bf\\langle x \\rangle} = \\frac{1}{n-1} \\sum_i^n (x_i - {\\bf\\bar{x}})^2$."
   ]
  },
  {
   "cell_type": "code",
   "execution_count": 6,
   "metadata": {
    "id": "C3z1d89Fe-jK"
   },
   "outputs": [],
   "source": [
    "# Skeleton\n",
    "def variance(Data):\n",
    "    m=0.\n",
    "\n",
    "    n = len(Data)\n",
    "    mean = sum(Data) / n\n",
    "    m = sum((x - mean) ** 2 for x in Data) / (n - 1)\n",
    "    return m"
   ]
  },
  {
   "cell_type": "code",
   "execution_count": null,
   "metadata": {
    "colab": {
     "base_uri": "https://localhost:8080/"
    },
    "id": "5jOtRp9ce-jL",
    "outputId": "58360395-97ba-4791-cbca-8f82e5205915"
   },
   "outputs": [
    {
     "name": "stdout",
     "output_type": "stream",
     "text": [
      "Variance of Data: 32.99416719954193\n"
     ]
    }
   ],
   "source": [
    "\n",
    "print (\"Variance of Data:\", variance(data))"
   ]
  },
  {
   "cell_type": "markdown",
   "metadata": {
    "id": "fShTIhMae-jL"
   },
   "source": [
    "## Histogramming"
   ]
  },
  {
   "cell_type": "markdown",
   "metadata": {
    "id": "ui8sPxuue-jL"
   },
   "source": [
    "*Exercise 3:* Write a function that bins the data so that you can create a histogram. An example of how to implement histogramming is the following logic:\n",
    "\n",
    "* User inputs a list of values `x` and optionally `n_bins` which defaults to 10.\n",
    "* If not supplied, find the minimum and maximum (`x_min`,`x_max`) of the values in x.\n",
    "* Determine the bin size (`bin_size`) by dividing the range of the function by the number of bins.\n",
    "* Create an empty list of zeros of size `n_bins`, call it `hist`.\n",
    "* Loop over the values in `x`\n",
    "    * Loop over the values in `hist` with index `i`:\n",
    "        * If x is between `x_min+i*bin_size` and `x_min+(i+1)*bin_size`, increment `hist[i].`\n",
    "        * For efficiency, try to use continue to goto the next bin and data point.\n",
    "* Return `hist` and the list corresponding of the bin edges (i.e. of `x_min+i*bin_size`).    "
   ]
  },
  {
   "cell_type": "code",
   "execution_count": null,
   "metadata": {
    "id": "m55XHwRYe-jL"
   },
   "outputs": [],
   "source": [
    "\n",
    "def histogram(x,n_bins=10,x_min=None,x_max=None):\n",
    "\n",
    "    x_max = max(x) if x_max is None else x_max\n",
    "    x_min = min(x) if x_min is None else x_min\n",
    "\n",
    "    bin_size = (x_max - x_min) / n_bins\n",
    "    hist = [0] * n_bins\n",
    "    bin_edges = [x_min + i * bin_size for i in range(n_bins + 1)]\n",
    "\n",
    "    for value in x:\n",
    "        for i in range(n_bins):\n",
    "            if x_min + i * bin_size <= value < x_min + (i + 1) * bin_size:\n",
    "                hist[i] += 1\n",
    "                break\n",
    "        else:\n",
    "   \n",
    "            if value == x_max:\n",
    "                hist[-1] += 1\n",
    "\n",
    "\n",
    "\n",
    "    return hist,bin_edges"
   ]
  },
  {
   "cell_type": "code",
   "execution_count": null,
   "metadata": {
    "colab": {
     "base_uri": "https://localhost:8080/"
    },
    "id": "6xuGB0Tle-jL",
    "outputId": "6a735140-a77c-4bb6-e613-6e475cf059f1"
   },
   "outputs": [
    {
     "name": "stdout",
     "output_type": "stream",
     "text": [
      "[9, 8, 1, 13, 8, 13, 12, 8, 13, 9, 12, 4, 12, 9, 9, 10, 14, 10, 14, 9, 6, 4, 16, 14, 10, 11, 13, 11, 11, 8, 8, 11, 11, 8, 10, 12, 10, 10, 9, 12, 7, 14, 8, 10, 7, 18, 14, 9, 12, 5, 12, 17, 7, 13, 8, 5, 9, 6, 10, 10, 6, 7, 9, 14, 12, 9, 9, 11, 10, 11, 9, 8, 12, 11, 5, 6, 12, 11, 12, 10, 12, 12, 6, 15, 7, 15, 6, 7, 13, 8, 7, 5, 12, 7, 8, 17, 17, 11, 9, 9]\n"
     ]
    }
   ],
   "source": [
    "\n",
    "h,b=histogram(data,100)\n",
    "print(h)"
   ]
  },
  {
   "cell_type": "markdown",
   "metadata": {
    "id": "1Juf6sP-e-jL"
   },
   "source": [
    "*Exercise 4:* Write a function that uses the histogram function in the previous exercise to create a text-based \"graph\". For example the output could look like the following:\n",
    "```\n",
    "[  0,  1] : ######\n",
    "[  1,  2] : #####\n",
    "[  2,  3] : ######\n",
    "[  3,  4] : ####\n",
    "[  4,  5] : ####\n",
    "[  5,  6] : ######\n",
    "[  6,  7] : #####\n",
    "[  7,  8] : ######\n",
    "[  8,  9] : ####\n",
    "[  9, 10] : #####\n",
    "```\n",
    "\n",
    "Where each line corresponds to a bin and the number of `#`'s are proportional to the value of the data in the bin."
   ]
  },
  {
   "cell_type": "code",
   "execution_count": null,
   "metadata": {
    "id": "bzsUmiOOe-jL"
   },
   "outputs": [],
   "source": [
    "\n",
    "def draw_histogram(x,n_bins,x_min=None,x_max=None,character=\"#\",max_character_per_line=20):\n",
    "   \n",
    "\n",
    "    hist, bin_edges = histogram(x, n_bins, x_min, x_max)\n",
    "\n",
    "\n",
    "    max_count = max(hist) if hist else 1  # Avoid division by zero\n",
    "\n",
    "    for i in range(n_bins):\n",
    "\n",
    "        num_characters = int((hist[i] / max_count) * max_character_per_line)\n",
    "\n",
    "\n",
    "        print(f\"[{bin_edges[i]:3.0f}, {bin_edges[i+1]:3.0f}] : {character * num_characters}\")\n",
    "\n",
    "  \n",
    "    return hist,bin_edges"
   ]
  },
  {
   "cell_type": "code",
   "execution_count": 11,
   "metadata": {
    "colab": {
     "base_uri": "https://localhost:8080/"
    },
    "id": "TZnQ9jxre-jL",
    "outputId": "b80e9f98-df76-4cfa-ee10-e805f2651947"
   },
   "outputs": [
    {
     "name": "stdout",
     "output_type": "stream",
     "text": [
      "[-10,  -9] : ############\n",
      "[ -9,  -8] : #################\n",
      "[ -8,  -7] : ##############\n",
      "[ -7,  -6] : ##################\n",
      "[ -6,  -5] : ###############\n",
      "[ -5,  -4] : #################\n",
      "[ -4,  -3] : ###############\n",
      "[ -3,  -2] : ################\n",
      "[ -2,  -1] : ##############\n",
      "[ -1,   0] : ##################\n",
      "[  0,   1] : ##################\n",
      "[  1,   2] : ############\n",
      "[  2,   3] : ###############\n",
      "[  3,   4] : ###############\n",
      "[  4,   5] : ##############\n",
      "[  5,   6] : ################\n",
      "[  6,   7] : ################\n",
      "[  7,   8] : ###############\n",
      "[  8,   9] : ############\n",
      "[  9,  10] : ####################\n"
     ]
    }
   ],
   "source": [
    "# Test your solution here\n",
    "h,b= draw_histogram(data,20)\n"
   ]
  },
  {
   "cell_type": "markdown",
   "metadata": {
    "id": "tTu0XC9Ze-jL"
   },
   "source": [
    "## Functional Programming\n",
    "\n",
    "*Exercise 5:* Write a function the applies a booling function (that returns true/false) to every element in data, and return a list of indices of elements where the result was true. Use this function to find the indices of entries greater than 0.5."
   ]
  },
  {
   "cell_type": "code",
   "execution_count": 12,
   "metadata": {
    "id": "jHE76OeDe-jL"
   },
   "outputs": [],
   "source": [
    "def where(mylist,myfunc):\n",
    "    out= []\n",
    "\n",
    "    ### BEGIN SOLUTION\n",
    "\n",
    "    for i, value in enumerate(mylist):\n",
    "        if myfunc(value):\n",
    "            out.append(i)\n",
    "\n",
    "    ### END SOLUTION\n",
    "\n",
    "    return out"
   ]
  },
  {
   "cell_type": "code",
   "execution_count": 13,
   "metadata": {
    "colab": {
     "base_uri": "https://localhost:8080/"
    },
    "id": "npIBfg4fe-jL",
    "outputId": "f57ce3f5-f011-46b9-dbd5-bbf7f53d9e6c"
   },
   "outputs": [
    {
     "name": "stdout",
     "output_type": "stream",
     "text": [
      "the correct indices are: [1, 3, 5]\n"
     ]
    }
   ],
   "source": [
    "# Test your solution here\n",
    "data = [-0.1, 0.6, 0.3, 0.9, 0.15, 0.67]\n",
    "\n",
    "# Find indices where value > 0.5\n",
    "indices = where(data, lambda x: x > 0.5)\n",
    "\n",
    "print(\"the correct indices are:\", indices)\n"
   ]
  },
  {
   "cell_type": "markdown",
   "metadata": {
    "id": "lZVKhKR6e-jL"
   },
   "source": [
    "*Exercise 6:* The `inrange(mymin,mymax)` function below returns a function that tests if it's input is between the specified values. Write corresponding functions that test:\n",
    "* Even\n",
    "* Odd\n",
    "* Greater than\n",
    "* Less than\n",
    "* Equal\n",
    "* Divisible by"
   ]
  },
  {
   "cell_type": "code",
   "execution_count": 14,
   "metadata": {
    "colab": {
     "base_uri": "https://localhost:8080/"
    },
    "id": "VXylP2Y_e-jL",
    "outputId": "18e0d28a-cbf4-45cb-f0c7-13a10b133519"
   },
   "outputs": [
    {
     "name": "stdout",
     "output_type": "stream",
     "text": [
      "True True False False False\n",
      "False False True True False\n",
      "Number of Entries passing F1: 5\n",
      "Number of Entries passing F2: 0\n"
     ]
    }
   ],
   "source": [
    "def in_range(mymin,mymax):\n",
    "    def testrange(x):\n",
    "        return x<mymax and x>=mymin\n",
    "    return testrange\n",
    "\n",
    "# Examples:\n",
    "F1=in_range(0,10)\n",
    "F2=in_range(10,20)\n",
    "\n",
    "# Test of in_range\n",
    "print (F1(0), F1(1), F1(10), F1(15), F1(20))\n",
    "print (F2(0), F2(1), F2(10), F2(15), F2(20))\n",
    "\n",
    "print (\"Number of Entries passing F1:\", len(where(data,F1)))\n",
    "print (\"Number of Entries passing F2:\", len(where(data,F2)))"
   ]
  },
  {
   "cell_type": "code",
   "execution_count": 15,
   "metadata": {
    "id": "oOAKKFzJe-jL"
   },
   "outputs": [],
   "source": [
    "def is_even():\n",
    "    def check(x):\n",
    "        return x % 2 == 0\n",
    "    return check\n",
    "\n",
    "def is_odd():\n",
    "    def check(x):\n",
    "        return x % 2 != 0\n",
    "    return check\n",
    "\n",
    "def greater_than(threshold):\n",
    "    def check(x):\n",
    "        return x > threshold\n",
    "    return check\n",
    "\n",
    "def less_than(threshold):\n",
    "    def check(x):\n",
    "        return x < threshold\n",
    "    return check\n",
    "\n",
    "def equal_to(value):\n",
    "    def check(x):\n",
    "        return x == value\n",
    "    return check\n",
    "\n",
    "def divisible_by(factor):\n",
    "    def check(x):\n",
    "        return x % factor == 0\n",
    "    return check\n"
   ]
  },
  {
   "cell_type": "code",
   "execution_count": 16,
   "metadata": {
    "colab": {
     "base_uri": "https://localhost:8080/"
    },
    "id": "_gJTjc5oe-jL",
    "outputId": "abe3ce90-8d92-4274-adc0-a7af26320383"
   },
   "outputs": [
    {
     "name": "stdout",
     "output_type": "stream",
     "text": [
      "Even numbers total: 6\n",
      "Number of numbers greater than 5 : 5\n"
     ]
    }
   ],
   "source": [
    "# Test your\n",
    "data = [0, 1, 2, 3, 4, 5, 6, 7, 8, 9, 10]\n",
    "\n",
    "F_even = is_even()\n",
    "F_gt5 = greater_than(5)\n",
    "\n",
    "print(\"Even numbers total:\", len(where(data, F_even)))\n",
    "print(\"Number of numbers greater than 5 :\", len(where(data, F_gt5)))\n"
   ]
  },
  {
   "cell_type": "markdown",
   "metadata": {
    "id": "lANPjoaje-jM"
   },
   "source": [
    "*Exercise 7:* Repeat the previous exercise using `lambda` and the built-in python functions sum and map instead of your solution above."
   ]
  },
  {
   "cell_type": "code",
   "execution_count": 17,
   "metadata": {
    "colab": {
     "base_uri": "https://localhost:8080/"
    },
    "id": "111k3-fae-jM",
    "outputId": "aefe901b-7f67-4805-c988-ac1b89782d68"
   },
   "outputs": [
    {
     "name": "stdout",
     "output_type": "stream",
     "text": [
      "Even count: 6\n",
      "Greater than 5 count: 5\n"
     ]
    }
   ],
   "source": [
    "def is_even():\n",
    "    return lambda x: x % 2 == 0\n",
    "\n",
    "def is_odd():\n",
    "    return lambda x: x % 2 != 0\n",
    "\n",
    "def greater_than(threshold):\n",
    "    return lambda x: x > threshold\n",
    "\n",
    "def less_than(threshold):\n",
    "    return lambda x: x < threshold\n",
    "\n",
    "def equal_to(value):\n",
    "    return lambda x: x == value\n",
    "\n",
    "def divisible_by(factor):\n",
    "    return lambda x: x % factor == 0\n",
    "\n",
    "data = [0, 1, 2, 3, 4, 5, 6, 7, 8, 9, 10]\n",
    "\n",
    "\n",
    "print(\"Even count:\", sum(map(is_even(), data)))\n",
    "print(\"Greater than 5 count:\", sum(map(greater_than(5), data)))\n"
   ]
  },
  {
   "cell_type": "markdown",
   "metadata": {
    "id": "6JeycELle-jM"
   },
   "source": [
    "## Monte Carlo\n",
    "\n",
    "*Exercise 7:* Write a \"generator\" function called `generate_function(func,x_min,x_max,N)`, that instead of generating a flat distribution, generates a distribution with functional form coded in `func`. Note that `func` will always be > 0.  \n",
    "\n",
    "Use the test function below and your histogramming functions above to demonstrate that your generator is working properly.\n",
    "\n",
    "Hint: A simple, but slow, solution is to a draw random number `test_x` within the specified range and another number `p` between the `min` and `max` of the function (which you will have to determine). If `p<=function(test_x)`, then place `test_x` on the output. If not, repeat the process, drawing two new numbers. Repeat until you have the specified number of generated numbers, `N`. For this problem, it's OK to determine the `min` and `max` by numerically sampling the function.  "
   ]
  },
  {
   "cell_type": "code",
   "execution_count": 18,
   "metadata": {
    "id": "aNoSEfl9e-jM"
   },
   "outputs": [],
   "source": [
    "def generate_function(func,x_min,x_max,N=1000):\n",
    "    out = list()\n",
    "\n",
    "    num_samples = 1000\n",
    "    sampled_values = [func(random.uniform(x_min, x_max)) for _ in range(num_samples)]\n",
    "    f_max = max(sampled_values)\n",
    "\n",
    "    # Step 2: Generate N samples\n",
    "    while len(out) < N:\n",
    "\n",
    "        test_x = random.uniform(x_min, x_max)\n",
    "\n",
    "\n",
    "        p = random.uniform(0, f_max)\n",
    "\n",
    "        if p <= func(test_x):\n",
    "            out.append(test_x)\n",
    "\n",
    "    return out"
   ]
  },
  {
   "cell_type": "code",
   "execution_count": 19,
   "metadata": {
    "id": "3a96_OxWe-jM"
   },
   "outputs": [],
   "source": [
    "# A test function\n",
    "def test_func(x,a=1,b=1):\n",
    "    return abs(a*x+b)"
   ]
  },
  {
   "cell_type": "markdown",
   "metadata": {
    "id": "Fq7aljVVe-jM"
   },
   "source": [
    "*Exercise 8:* Use your function to generate 1000 numbers that are normal distributed, using the `gaussian` function below. Confirm the mean and variance of the data is close to the mean and variance you specify when building the Gaussian. Histogram the data."
   ]
  },
  {
   "cell_type": "code",
   "execution_count": 20,
   "metadata": {
    "id": "bdrgqGw0e-jM"
   },
   "outputs": [],
   "source": [
    "import math\n",
    "\n",
    "def gaussian(mean, sigma):\n",
    "    def f(x):\n",
    "        return math.exp(-((x-mean)**2)/(2*sigma**2))/math.sqrt(math.pi*sigma)\n",
    "    return f\n",
    "\n",
    "# Example Instantiation\n",
    "g1=gaussian(0,1)\n",
    "g2=gaussian(10,3)"
   ]
  },
  {
   "cell_type": "code",
   "execution_count": null,
   "metadata": {
    "colab": {
     "base_uri": "https://localhost:8080/",
     "height": 507
    },
    "id": "8WqK8KtDr3Gh",
    "outputId": "91e86ea0-57a6-4063-e7da-f35048b60e47"
   },
   "outputs": [
    {
     "name": "stdout",
     "output_type": "stream",
     "text": [
      "Generated data mean: 0.047009052559372516\n",
      "Generated data variance: 0.9396389963213062\n"
     ]
    },
    {
     "data": {
      "image/png": "[encoded data removed]",
      "text/plain": [
       "<Figure size 640x480 with 1 Axes>"
      ]
     },
     "metadata": {},
     "output_type": "display_data"
    }
   ],
   "source": [
    "import numpy as np\n",
    "import matplotlib.pyplot as plt\n",
    "\n",
    "generated_data = generate_function(g1, -5, 5, N=1000)\n",
    "\n",
    "mean_generated = np.mean(generated_data)\n",
    "variance_generated = np.var(generated_data)\n",
    "\n",
    "# The mean and variance\n",
    "print(\"Generated data mean:\", mean_generated)\n",
    "print(\"Generated data variance:\", variance_generated)\n",
    "\n",
    "# The histogram of the generated data\n",
    "plt.hist(generated_data, bins=30, edgecolor='black', density=True)\n",
    "plt.title('Histogram of Generated Data')\n",
    "plt.xlabel('x')\n",
    "plt.ylabel('Density')\n",
    "\n",
    "\n",
    "plt.show()"
   ]
  },
  {
   "cell_type": "code",
   "execution_count": null,
   "metadata": {
    "colab": {
     "base_uri": "https://localhost:8080/",
     "height": 507
    },
    "id": "QakfrxzSsVzq",
    "outputId": "5d2385a3-412b-4d52-931f-56c7291ca235"
   },
   "outputs": [
    {
     "name": "stdout",
     "output_type": "stream",
     "text": [
      "mean of g2 generated data: 10.090029764659743\n",
      "variance of g2 generated data: 9.106112909783745\n"
     ]
    },
    {
     "data": {
      "image/png": "[encoded data removed]",
      "text/plain": [
       "<Figure size 640x480 with 1 Axes>"
      ]
     },
     "metadata": {},
     "output_type": "display_data"
    }
   ],
   "source": [
    "generated_data_g2 = generate_function(g2, -20, 40, N=1000)\n",
    "\n",
    "\n",
    "mean_generated_g2 = np.mean(generated_data_g2)\n",
    "variance_generated_g2 = np.var(generated_data_g2)\n",
    "\n",
    "print(\"mean of g2 generated data:\", mean_generated_g2)\n",
    "print(\"variance of g2 generated data:\", variance_generated_g2)\n",
    "\n",
    "\n",
    "plt.hist(generated_data_g2, bins=30, edgecolor='black', density=True)\n",
    "plt.title('Histogram of Generated Data (Gaussian mean=10, sigma=3)')\n",
    "plt.xlabel('x')\n",
    "plt.ylabel('Density')\n",
    "\n",
    "\n",
    "plt.show()\n"
   ]
  },
  {
   "cell_type": "markdown",
   "metadata": {
    "id": "srsL7_TYe-jM"
   },
   "source": [
    "*Exercise 9:* Combine your `generate_function`, `where`, and `in_range` functions above to create an integrate function. Use your integrate function to show that approximately 68% of Normal distribution is within one variance."
   ]
  },
  {
   "cell_type": "code",
   "execution_count": null,
   "metadata": {
    "colab": {
     "base_uri": "https://localhost:8080/"
    },
    "id": "JWnqsdEpe-jM",
    "outputId": "5662150d-7430-4672-c4f6-348c5c63d5db"
   },
   "outputs": [
    {
     "name": "stdout",
     "output_type": "stream",
     "text": [
      "Proportion of data within 1 standard deviation (approx): 68.32%\n"
     ]
    }
   ],
   "source": [
    "def integrate(func, mean, sigma, x_min, x_max, n_points=10000):\n",
    "    generated_data = generate_function(func, x_min, x_max, n_points)\n",
    "\n",
    "    test_range = in_range(mean - sigma, mean + sigma)\n",
    "    indices_in_range = where(generated_data, test_range)\n",
    "\n",
    "    proportion_in_range = len(indices_in_range) / n_points\n",
    "    return proportion_in_range\n",
    "\n",
    "g1 = gaussian(0, 2)\n",
    "proportion = integrate(g1, mean=0, sigma=2, x_min=-10, x_max=10, n_points=10000)\n",
    "print(f\"Proportion of data within 1σ ≈ {proportion:.4f}\")\n"
   ]
  },
  {
   "cell_type": "code",
   "execution_count": null,
   "metadata": {
    "id": "Ye5ely66e-jM"
   },
   "outputs": [],
   "source": []
  }
 ],
 "metadata": {
  "colab": {
   "provenance": []
  },
  "kernelspec": {
   "display_name": "Python 3",
   "language": "python",
   "name": "python3"
  },
  "language_info": {
   "codemirror_mode": {
    "name": "ipython",
    "version": 3
   },
   "file_extension": ".py",
   "mimetype": "text/x-python",
   "name": "python",
   "nbconvert_exporter": "python",
   "pygments_lexer": "ipython3",
   "version": "3.13.1"
  }
 },
 "nbformat": 4,
 "nbformat_minor": 0
}
